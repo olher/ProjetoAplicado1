{
 "cells": [
  {
   "cell_type": "markdown",
   "id": "a76608da",
   "metadata": {},
   "source": [
    "<h3>Kick Off</h3>\n",
    "<br>\n",
    "<p><strong>Entrega Atividade 1</strong></p>\n",
    "<p>1. Escolher temática.</p>\n",
    "<p>2. Criar Github para organizar o projeto.</p>\n",
    "<p>3. Definição do cronograma detalhado, definindo tarefas e responsabilidades para o trabalho.</p>\n",
    "<br>\n",
    "<p><strong>Entregas:</strong></p>\n",
    "<p>- Título do trabalho;</p>\n",
    "<p>- Membros do grupo;</p>\n",
    "<p>- Contexto do estudo;</p>\n",
    "<p>- Referências de aquisição do dataset (origem dos dados, limitações de uso e\n",
    "período da coleta);</p>\n",
    "<p>- Descrição da origem (informações sobre a organização que gerou os dados\n",
    "e o contexto em que os dados foram gerados);</p>\n",
    "<p>- Descrição do dataset (o que ele contém, qual é a proposta, quais problemas\n",
    "ou fenômenos foram registrados).</p>\n",
    "<br>\n",
    "<h3>Criterio de Avaliação:</h3>\n",
    "<br>\n",
    "<p><strong>PDF:</strong></p>\n",
    "<p>Organização do Documento</p>\n",
    "<p>Capa</p>\n",
    "<p>Sumário</p>\n",
    "<p>Lista de figuras</p>\n",
    "<p>Lista de tabelas</p>\n",
    "<p>Introdução</p>\n",
    "<p>Capítulos separados para cada conjunto de itens solicitados.</p>\n",
    "<br>\n",
    "<p><strong>GitHub:</strong></p>\n",
    "<p>Repositório Criado</p>\n",
    "<p>Organizado com pastas</p>\n",
    "<p>Possui sumário</p>\n",
    "<p>Objetivo descrito no doc read-me</p>\n",
    "<p>Conter os nomes dos membros</p>\n",
    "<br>\n",
    "<p><strong>Objetivos do projeto:</strong></p>\n",
    "<p>Apresentação da empresa</p>\n",
    "<p>Área de atuação</p>\n",
    "<p>Necessidades</p>\n",
    "<p>Problema a ser trabalhado</p>\n",
    "<br>\n",
    "<p><strong>Dataset e Metadados</strong></p>\n",
    "<p>Conter metadados</p>\n",
    "<p>Colunas e linhas em quantidade</p>\n",
    "<p>Atender aos objetivos do trabalho</p>"
   ]
  }
 ],
 "metadata": {
  "kernelspec": {
   "display_name": "Python 3 (ipykernel)",
   "language": "python",
   "name": "python3"
  },
  "language_info": {
   "codemirror_mode": {
    "name": "ipython",
    "version": 3
   },
   "file_extension": ".py",
   "mimetype": "text/x-python",
   "name": "python",
   "nbconvert_exporter": "python",
   "pygments_lexer": "ipython3",
   "version": "3.9.13"
  }
 },
 "nbformat": 4,
 "nbformat_minor": 5
}
